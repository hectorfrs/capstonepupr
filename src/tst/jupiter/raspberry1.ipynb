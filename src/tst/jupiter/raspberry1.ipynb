{
 "cells": [
  {
   "cell_type": "markdown",
   "metadata": {},
   "source": [
    "# Plastic Sorting #"
   ]
  },
  {
   "cell_type": "markdown",
   "metadata": {},
   "source": [
    "## Casptone ##"
   ]
  },
  {
   "cell_type": "markdown",
   "metadata": {},
   "source": [
    "## Sección 1: Configuración y Preparación del Entorno ##"
   ]
  },
  {
   "cell_type": "code",
   "execution_count": null,
   "metadata": {},
   "outputs": [],
   "source": [
    "# Sección 1: Configuración y Preparación del Entorno\n",
    "import os\n",
    "import json\n",
    "import time\n",
    "import random\n",
    "import logging\n",
    "import paho.mqtt.client as mqtt\n",
    "from datetime import datetime\n",
    "\n",
    "# Configurar logging\n",
    "def setup_logger():\n",
    "    logging.basicConfig(\n",
    "        level=logging.INFO,\n",
    "        format=\"[%(asctime)s] [%(levelname)s] %(message)s\",\n",
    "        datefmt=\"%Y-%m-%d %H:%M:%S\"\n",
    "    )\n",
    "setup_logger()\n",
    "logging.info(\"[SETUP] Logger configurado correctamente.\")\n",
    "\n",
    "# Configuración del cliente MQTT\n",
    "mqtt_config = {\n",
    "    \"broker_address\": \"localhost\",  # Cambiar si se usa un broker remoto\n",
    "    \"port\": 1883,\n",
    "    \"topics\": {\n",
    "        \"sensor_data\": \"material/entrada\"\n",
    "    }\n",
    "}\n",
    "\n",
    "client = mqtt.Client(\"raspberry1\")\n",
    "\n",
    "# Conectar al broker MQTT\n",
    "def connect_mqtt():\n",
    "    try:\n",
    "        client.connect(mqtt_config[\"broker_address\"], mqtt_config[\"port\"])\n",
    "        logging.info(f\"[MQTT] Conectado al broker {mqtt_config['broker_address']}:{mqtt_config['port']}\")\n",
    "    except Exception as e:\n",
    "        logging.error(f\"[MQTT] Error conectando al broker: {e}\")\n",
    "\n",
    "connect_mqtt()\n",
    "\n",
    "# Callback para mensajes recibidos\n",
    "def on_message(client, userdata, msg):\n",
    "    logging.info(f\"[MQTT] Mensaje recibido en {msg.topic}: {msg.payload.decode()}\")\n",
    "\n",
    "client.on_message = on_message\n",
    "client.loop_start()"
   ]
  },
  {
   "cell_type": "markdown",
   "metadata": {},
   "source": [
    "### Sección 2: Simulación de Lectura de Sensores (AS7265x)"
   ]
  },
  {
   "cell_type": "code",
   "execution_count": 5,
   "metadata": {},
   "outputs": [],
   "source": [
    "# Sección 2: Simulación de Lectura de Sensores (AS7265x)\n",
    "def simulate_sensor_reading():\n",
    "    spectral_data = {f\"channel_{i}\": random.uniform(0.1, 1.0) for i in range(18)}\n",
    "    detected_material = random.choice([\"PET\", \"HDPE\"])\n",
    "    confidence = round(random.uniform(0.8, 1.0), 2)\n",
    "    \n",
    "    sensor_data = {\n",
    "        \"timestamp\": datetime.now().isoformat(),\n",
    "        \"sensor_id\": \"AS7265x_1\",\n",
    "        \"spectral_data\": spectral_data,\n",
    "        \"detected_material\": detected_material,\n",
    "        \"confidence\": confidence\n",
    "    }\n",
    "    return sensor_data\n"
   ]
  },
  {
   "cell_type": "markdown",
   "metadata": {},
   "source": [
    "### Sección 3: Publicación de Datos MQTT ###"
   ]
  },
  {
   "cell_type": "code",
   "execution_count": 4,
   "metadata": {},
   "outputs": [],
   "source": [
    "# Sección 3: Publicación de Datos MQTT\n",
    "def publish_sensor_data():\n",
    "    try:\n",
    "        data = simulate_sensor_reading()\n",
    "        client.publish(mqtt_config[\"topics\"][\"sensor_data\"], json.dumps(data))\n",
    "        logging.info(f\"[MQTT] Datos publicados: {data}\")\n",
    "    except Exception as e:\n",
    "        logging.error(f\"[MQTT] Error publicando datos: {e}\")"
   ]
  },
  {
   "cell_type": "markdown",
   "metadata": {},
   "source": [
    "#### Ejecución Continua ###"
   ]
  },
  {
   "cell_type": "code",
   "execution_count": null,
   "metadata": {},
   "outputs": [],
   "source": [
    "# Ejecución Continua\n",
    "if __name__ == \"__main__\":\n",
    "    logging.info(\"[MAIN] Iniciando simulación de Raspberry Pi 1.\")\n",
    "    try:\n",
    "        while True:\n",
    "            publish_sensor_data()\n",
    "            time.sleep(5)  # Publicar cada 5 segundos\n",
    "    except KeyboardInterrupt:\n",
    "        logging.info(\"[MAIN] Simulación detenida por el usuario.\")\n",
    "        client.loop_stop()\n"
   ]
  }
 ],
 "metadata": {
  "kernelspec": {
   "display_name": "Python 3",
   "language": "python",
   "name": "python3"
  },
  "language_info": {
   "codemirror_mode": {
    "name": "ipython",
    "version": 3
   },
   "file_extension": ".py",
   "mimetype": "text/x-python",
   "name": "python",
   "nbconvert_exporter": "python",
   "pygments_lexer": "ipython3",
   "version": "3.11.9"
  }
 },
 "nbformat": 4,
 "nbformat_minor": 2
}
