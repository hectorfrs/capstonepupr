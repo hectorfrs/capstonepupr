{
 "cells": [
  {
   "cell_type": "markdown",
   "metadata": {},
   "source": [
    "## Estructura de Archivos para Raspberry Pi #1: Sensores Espectroscópicos y NIR\n",
    "### Estructura esperada:"
   ]
  },
  {
   "cell_type": "code",
   "execution_count": null,
   "metadata": {
    "vscode": {
     "languageId": "bat"
    }
   },
   "outputs": [],
   "source": [
    "/pi1/\n",
    "│\n",
    "├── /config/\n",
    "│   └── pi1_config.yaml          # Configuración específica de Raspberry Pi 1\n",
    "│\n",
    "├── /scripts/\n",
    "│   └── main_pi1.py              # Script principal para lectura de sensores espectroscópicos y NIR\n",
    "│\n",
    "├── /utils/\n",
    "│   ├── iot_core.py              # Publicación de datos a AWS IoT Core usando MQTT\n",
    "│   ├── mqtt_publisher.py        # Enviar datos a AWS IoT Core mediante MQTT\n",
    "│   ├── sensors.py               # Funciones para leer los sensores espectroscópicos y NIR\n",
    "│   ├── greengrass.py            # Procesamiento local usando AWS IoT Greengrass\n",
    "│   └── networking.py            # Configuración de red (Ethernet y Wi-Fi con redundancia)\n",
    "│\n",
    "├── /certs/                      # Certificados para autenticación en AWS IoT\n",
    "│   ├── AmazonRootCA1.pem        # Certificado raíz de AWS IoT\n",
    "│   ├── certificate.pem.crt      # Certificado del cliente\n",
    "│   └── private.pem.key          # Llave privada del cliente\n",
    "│\n",
    "├── /logs/\n",
    "│   └── pi1_logs.log             # Log de Raspberry Pi 1\n",
    "│\n",
    "├── /data/\n",
    "│   └── pi1_data.csv             # Datos recolectados de los sensores espectroscópicos y NIR\n",
    "└── /services/\n",
    "    └── capstone_pi1.service     # Archivo systemd para el auto-arranque de Raspberry Pi 1"
   ]
  },
  {
   "cell_type": "markdown",
   "metadata": {},
   "source": [
    "### Archivos Clave:\n",
    "* `main_pi1.py:` Lectura de sensores espectroscópicos AS7265x y NIR AS7263, con publicación a AWS IoT y procesamiento local con Greengrass.\n",
    "* `greengrass.py:` Procesa los datos localmente utilizando AWS IoT Greengrass antes de enviarlos a la nube.\n",
    "* `mqtt_publisher.py:` Publica los datos a AWS IoT Core usando MQTT.\n",
    "* `iot_core.py:` Maneja la autenticación con AWS IoT Core mediante certificados.\n",
    "* `sensors.py:` Define las funciones de lectura de los sensores espectroscópicos y NIR."
   ]
  },
  {
   "cell_type": "markdown",
   "metadata": {},
   "source": [
    "## Estructura de Archivos para Raspberry Pi #2: Sensor de Presión y Control de Válvulas\n",
    "### Estructura esperada:"
   ]
  },
  {
   "cell_type": "code",
   "execution_count": null,
   "metadata": {
    "vscode": {
     "languageId": "bat"
    }
   },
   "outputs": [],
   "source": [
    "/pi2/\n",
    "│\n",
    "├── /config/\n",
    "│   └── pi2_config.yaml          # Configuración específica de Raspberry Pi 2\n",
    "│\n",
    "├── /scripts/\n",
    "│   └── main_pi2.py              # Script principal para lectura del sensor de presión y control de válvulas\n",
    "│\n",
    "├── /utils/\n",
    "│   ├── iot_core.py              # Publicación de datos a AWS IoT Core usando MQTT\n",
    "│   ├── mqtt_publisher.py        # Enviar datos a AWS IoT Core mediante MQTT\n",
    "│   ├── sensors.py               # Funciones para leer el sensor de presión\n",
    "│   ├── valve_control.py         # Control de las válvulas de presión\n",
    "│   ├── greengrass.py            # Procesamiento local usando AWS IoT Greengrass\n",
    "│   └── networking.py            # Configuración de red (Ethernet y Wi-Fi con redundancia)\n",
    "│\n",
    "├── /certs/                      # Certificados para autenticación en AWS IoT\n",
    "│   ├── AmazonRootCA1.pem        # Certificado de Amazon Root CA\n",
    "│   ├── certificate.pem.crt      # Certificado del cliente\n",
    "│   └── private.pem.key          # Llave privada del cliente\n",
    "│\n",
    "├── /logs/\n",
    "│   └── pi2_logs.log             # Log de Raspberry Pi 2\n",
    "│\n",
    "├── /data/\n",
    "│   └── pi2_data.csv             # Datos recolectados del sensor de presión\n",
    "└── /services/\n",
    "    └── capstone_pi2.service     # Archivo systemd para el auto-arranque de Raspberry Pi 2\n"
   ]
  },
  {
   "cell_type": "markdown",
   "metadata": {},
   "source": [
    "### Archivos Clave:\n",
    "* `main_pi2.py:` Lectura de datos del sensor de presión y control de válvulas, con publicación a AWS IoT Core y procesamiento local con Greengrass.\n",
    "* `greengrass.py:` Procesa los datos localmente usando AWS IoT Greengrass.\n",
    "* `valve_control.py:` Control de válvulas basado en los datos del sensor de presión.\n",
    "* `mqtt_publisher.py:` Publica los datos a AWS IoT Core.\n",
    "* `sensors.py:` Funciones para leer el sensor de presión Qwiic.\n"
   ]
  },
  {
   "cell_type": "markdown",
   "metadata": {},
   "source": [
    "## Estructura de Archivos para Raspberry Pi #3: Sensor de Peso y Cámara\n",
    "### Estructura esperada:"
   ]
  },
  {
   "cell_type": "code",
   "execution_count": null,
   "metadata": {
    "vscode": {
     "languageId": "bat"
    }
   },
   "outputs": [],
   "source": [
    "/pi3/\n",
    "│\n",
    "├── /config/\n",
    "│   └── pi3_config.yaml          # Configuración específica de Raspberry Pi 3\n",
    "│\n",
    "├── /scripts/\n",
    "│   └── main_pi3.py              # Script principal para lectura del sensor de peso y cámara\n",
    "│\n",
    "├── /utils/\n",
    "│   ├── iot_core.py              # Publicación de datos a AWS IoT Core usando MQTT\n",
    "│   ├── mqtt_publisher.py        # Enviar datos a AWS IoT Core mediante MQTT\n",
    "│   ├── sensors.py               # Funciones para leer el sensor de peso\n",
    "│   ├── camera.py                # Funciones para capturar imágenes con la cámara\n",
    "│   ├── greengrass.py            # Procesamiento local usando AWS IoT Greengrass\n",
    "│   └── networking.py            # Configuración de red (Ethernet y Wi-Fi con redundancia)\n",
    "│\n",
    "├── /logs/\n",
    "│   └── pi3_logs.log             # Log de Raspberry Pi 3\n",
    "│\n",
    "├── /data/\n",
    "│   └── pi3_data.csv             # Datos recolectados del sensor de peso y cámara\n",
    "└── /services/\n",
    "    └── capstone_pi3.service     # Archivo systemd para el auto-arranque de Raspberry Pi 3"
   ]
  },
  {
   "cell_type": "markdown",
   "metadata": {},
   "source": [
    "## Archivos Clave:\n",
    "* `main_pi3.py:` Lectura de datos del sensor de peso y captura de imágenes, con publicación a AWS IoT Core y procesamiento local con Greengrass.\n",
    "* `greengrass.py:` Procesa los datos localmente usando AWS IoT Greengrass.\n",
    "* `camera.py:` Funciones para controlar la cámara conectada al Raspberry Pi 3.\n",
    "* `sensors.py:` Define las funciones de lectura del sensor de peso HX711.\n",
    "* `mqtt_publisher.py:` Publica los datos a AWS IoT Core.\n"
   ]
  }
 ],
 "metadata": {
  "kernelspec": {
   "display_name": "Python 3",
   "language": "python",
   "name": "python3"
  },
  "language_info": {
   "codemirror_mode": {
    "name": "ipython",
    "version": 3
   },
   "file_extension": ".py",
   "mimetype": "text/x-python",
   "name": "python",
   "nbconvert_exporter": "python",
   "pygments_lexer": "ipython3",
   "version": "3.11.2"
  }
 },
 "nbformat": 4,
 "nbformat_minor": 2
}
